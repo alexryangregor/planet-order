{
 "cells": [
  {
   "cell_type": "code",
   "execution_count": null,
   "id": "c45ed953",
   "metadata": {},
   "outputs": [],
   "source": [
    "from component import tile"
   ]
  },
  {
   "cell_type": "code",
   "execution_count": null,
   "id": "119243b3",
   "metadata": {},
   "outputs": [],
   "source": [
    "explorer_tile = tile.ExplorerTile(aoi_tile.view.model)"
   ]
  },
  {
   "cell_type": "code",
   "execution_count": null,
   "id": "3bec2c91",
   "metadata": {},
   "outputs": [],
   "source": [
    "explorer_tile"
   ]
  },
  {
   "cell_type": "code",
   "execution_count": null,
   "id": "b6d81ad1",
   "metadata": {},
   "outputs": [],
   "source": []
  }
 ],
 "metadata": {
  "kernelspec": {
   "display_name": "Python 3",
   "language": "python",
   "name": "python3"
  },
  "language_info": {
   "codemirror_mode": {
    "name": "ipython",
    "version": 3
   },
   "file_extension": ".py",
   "mimetype": "text/x-python",
   "name": "python",
   "nbconvert_exporter": "python",
   "pygments_lexer": "ipython3",
   "version": "3.6.9"
  }
 },
 "nbformat": 4,
 "nbformat_minor": 5
}
