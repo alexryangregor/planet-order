{
 "cells": [
  {
   "cell_type": "code",
   "execution_count": null,
   "id": "8c8ab059",
   "metadata": {},
   "outputs": [],
   "source": [
    "from sepal_ui import sepalwidgets as sw"
   ]
  },
  {
   "cell_type": "code",
   "execution_count": null,
   "id": "68a57857",
   "metadata": {},
   "outputs": [],
   "source": [
    "# create the Html body of your about section\n",
    "about_tile = sw.TileAbout(\"utils/ABOUT.md\")  # relative path to your markdown file"
   ]
  },
  {
   "cell_type": "code",
   "execution_count": null,
   "id": "ce16c406",
   "metadata": {},
   "outputs": [],
   "source": [
    "# create the html body of the FAO disclaimer\n",
    "# its mother class is sw.Tile so you can still replace it with another message if you want (discouraged)\n",
    "disclaimer_tile = sw.TileDisclaimer()"
   ]
  },
  {
   "cell_type": "code",
   "execution_count": null,
   "id": "e1abbd10",
   "metadata": {},
   "outputs": [],
   "source": [
    "about_tile"
   ]
  },
  {
   "cell_type": "code",
   "execution_count": null,
   "id": "0f1dc110",
   "metadata": {},
   "outputs": [],
   "source": [
    "disclaimer_tile"
   ]
  },
  {
   "cell_type": "code",
   "execution_count": null,
   "id": "5686017f",
   "metadata": {},
   "outputs": [],
   "source": []
  }
 ],
 "metadata": {
  "kernelspec": {
   "display_name": "Python 3",
   "language": "python",
   "name": "python3"
  },
  "language_info": {
   "codemirror_mode": {
    "name": "ipython",
    "version": 3
   },
   "file_extension": ".py",
   "mimetype": "text/x-python",
   "name": "python",
   "nbconvert_exporter": "python",
   "pygments_lexer": "ipython3",
   "version": "3.6.9"
  }
 },
 "nbformat": 4,
 "nbformat_minor": 5
}
